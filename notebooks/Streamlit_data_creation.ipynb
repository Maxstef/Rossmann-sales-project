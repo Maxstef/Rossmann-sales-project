{
 "cells": [
  {
   "cell_type": "code",
   "execution_count": 281,
   "id": "ebd34123-3f56-43bf-8668-64dfe3b6352d",
   "metadata": {},
   "outputs": [],
   "source": [
    "import pandas as pd\n",
    "import sys\n",
    "sys.path.append('../src')\n",
    "# import importlib\n",
    "# import statistics\n",
    "# importlib.reload(statistics)\n",
    "from sales_statistics import get_col_stats_filename"
   ]
  },
  {
   "cell_type": "code",
   "execution_count": 282,
   "id": "6c64e409-f0fb-4e89-8af9-006a18203ff9",
   "metadata": {},
   "outputs": [],
   "source": [
    "# !NOTE - make sure you uploaded data file into appropriate folder \n",
    "filename = '../data/raw/rossman_prepared.csv'\n",
    "raw_df = pd.read_csv(filename)\n",
    "target_col = 'Sales'"
   ]
  },
  {
   "cell_type": "code",
   "execution_count": 283,
   "id": "8ee36add-2e1e-4d30-bb6c-f854d3da9956",
   "metadata": {},
   "outputs": [],
   "source": [
    "open_df = raw_df[raw_df['Open'] == 1]"
   ]
  },
  {
   "cell_type": "code",
   "execution_count": 284,
   "id": "dc067422-3b78-42c8-95e7-bbe40b949944",
   "metadata": {},
   "outputs": [],
   "source": [
    "statistic_setups = [\n",
    "    {\n",
    "        'group_by': 'Month',\n",
    "        'values_map': {\n",
    "            1: \"January\", 2: \"February\", 3: \"March\", 4: \"April\",\n",
    "            5: \"May\", 6: \"June\", 7: \"July\", 8: \"August\",\n",
    "            9: \"September\", 10: \"October\", 11: \"November\", 12: \"December\"\n",
    "        }\n",
    "    },\n",
    "    {\n",
    "        'group_by': 'DayOfWeek',\n",
    "        'values_map': {\n",
    "            1: \"Monday\", 2: \"Tuesday\", 3: \"Wednesday\", 4: \"Thursday\",\n",
    "            5: \"Friday\", 6: \"Saturday\", 7: \"Sunday\"\n",
    "        }\n",
    "    }\n",
    "]"
   ]
  },
  {
   "cell_type": "code",
   "execution_count": 285,
   "id": "ad69d0be-eca8-4d09-a1f3-fd18c3ab2929",
   "metadata": {},
   "outputs": [],
   "source": [
    "for setup in statistic_setups:\n",
    "    group_by_col = setup['group_by']\n",
    "    filename = get_col_stats_filename(group_by_col)\n",
    "    values_map = setup['values_map']\n",
    "    df_avg = open_df.groupby(group_by_col, as_index=False)['Sales'].mean().round(2)\n",
    "    df_avg.rename(columns={'Sales': 'Average_Sales'}, inplace=True)\n",
    "    df_avg[group_by_col] = df_avg[group_by_col].map(values_map)\n",
    "\n",
    "    # Save df_avg to a CSV file\n",
    "    df_avg.to_csv('../data/streamlit/' + filename, index=False)"
   ]
  },
  {
   "cell_type": "code",
   "execution_count": 280,
   "id": "a7111542-1e79-4783-90fc-e88ee60673de",
   "metadata": {},
   "outputs": [],
   "source": [
    "user_inpute_cols = [\n",
    "    'Date', 'Promo', 'CompetitionDistance',\n",
    "    'StateHoliday', 'SchoolHoliday', 'StoreType',\n",
    "    'Assortment', 'Promo2', 'Promo2SinceWeek',\n",
    "    'Promo2SinceYear', 'PromoInterval', 'CompetitionOpenSinceMonth',\n",
    "    'CompetitionOpenSinceYear', 'DaysAfterHoliday', 'DaysBeforeHoliday',\n",
    "    'Sales_Lag1', 'Sales_Lag2', 'Sales_Lag3', 'Sales_Lag7', 'Sales_Lag14',\n",
    "    'Sales_Lag30', 'Customers_Lag1', 'Customers_Lag7', 'SalesPerCustomer_Lag1']"
   ]
  },
  {
   "cell_type": "code",
   "execution_count": 259,
   "id": "3e322c97-641b-46b0-a1c8-6eece91ba812",
   "metadata": {},
   "outputs": [],
   "source": [
    "# Prepare summary\n",
    "summary = []\n",
    "\n",
    "open_df.loc[:, 'Date'] = pd.to_datetime(open_df['Date'])\n",
    "\n",
    "\n",
    "for col in user_inpute_cols:\n",
    "    col_data = open_df[col]\n",
    "    col_type = col_data.dtype\n",
    "    \n",
    "    # Detect boolean-like numeric\n",
    "    if np.issubdtype(col_type, np.number) and set(col_data.unique()).issubset({0, 1}):\n",
    "        summary.append({\n",
    "            \"Column\": col,\n",
    "            \"Type\": \"boolean\",\n",
    "            \"Min\": None,\n",
    "            \"Max\": None,\n",
    "            \"Unique_Values\": [0, 1]\n",
    "        })\n",
    "    \n",
    "    # Detect datetime\n",
    "    elif np.issubdtype(col_type, np.datetime64):\n",
    "        summary.append({\n",
    "            \"Column\": col,\n",
    "            \"Type\": \"date\",\n",
    "            \"Min\": col_data.min(),\n",
    "            \"Max\": col_data.max(),\n",
    "            \"Unique_Values\": None\n",
    "        })\n",
    "    \n",
    "    # Numeric\n",
    "    elif np.issubdtype(col_type, np.number):\n",
    "        summary.append({\n",
    "            \"Column\": col,\n",
    "            \"Type\": \"numeric\",\n",
    "            \"Min\": col_data.min(),\n",
    "            \"Max\": col_data.max(),\n",
    "            \"Unique_Values\": None\n",
    "        })\n",
    "    \n",
    "    # Categorical / object\n",
    "    else:\n",
    "        summary.append({\n",
    "            \"Column\": col,\n",
    "            \"Type\": \"categorical\",\n",
    "            \"Min\": None,\n",
    "            \"Max\": None,\n",
    "            \"Unique_Values\": col_data.unique().tolist()\n",
    "        })\n",
    "\n",
    "# Convert to DataFrame\n",
    "summary_df = pd.DataFrame(summary)\n",
    "\n",
    "\n",
    "# Save summary_df to a CSV file\n",
    "summary_df.to_csv('../data/streamlit/user_inputs_data.csv', index=False)"
   ]
  },
  {
   "cell_type": "code",
   "execution_count": null,
   "id": "a712167d-937b-4e42-8d30-d698f5656b03",
   "metadata": {},
   "outputs": [],
   "source": []
  }
 ],
 "metadata": {
  "kernelspec": {
   "display_name": "Python 3 (ipykernel)",
   "language": "python",
   "name": "python3"
  },
  "language_info": {
   "codemirror_mode": {
    "name": "ipython",
    "version": 3
   },
   "file_extension": ".py",
   "mimetype": "text/x-python",
   "name": "python",
   "nbconvert_exporter": "python",
   "pygments_lexer": "ipython3",
   "version": "3.13.7"
  }
 },
 "nbformat": 4,
 "nbformat_minor": 5
}
